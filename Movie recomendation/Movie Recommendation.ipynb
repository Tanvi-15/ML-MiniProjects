{
 "cells": [
  {
   "cell_type": "code",
   "execution_count": 41,
   "id": "421f61c0",
   "metadata": {},
   "outputs": [],
   "source": [
    "import numpy as np\n",
    "import pandas as pd\n",
    "import difflib\n",
    "from sklearn.feature_extraction.text import TfidfVectorizer\n",
    "# TfidfVectorizer - This is used to convert text data into numerical values\n",
    "from sklearn.metrics.pairwise import cosine_similarity\n",
    "import os\n"
   ]
  },
  {
   "cell_type": "code",
   "execution_count": 42,
   "id": "7619926b",
   "metadata": {},
   "outputs": [
    {
     "name": "stdout",
     "output_type": "stream",
     "text": [
      " Enter your favourite movie name : Avatar\n"
     ]
    }
   ],
   "source": [
    "\n",
    "movies_data =pd.read_csv('movies.csv')\n",
    "\n",
    "selected_features = ['genres','keywords','tagline','cast','original_language']\n",
    "\n",
    "for feature in selected_features:\n",
    "  movies_data[feature] = movies_data[feature].fillna('')\n",
    "\n",
    "combined_features = movies_data['genres']+' '+movies_data['keywords']+' '+movies_data['tagline']+' '+movies_data['cast']+' '+movies_data['original_language']\n",
    "\n",
    "vectorizer = TfidfVectorizer()\n",
    "feature_vectors = vectorizer.fit_transform(combined_features)\n",
    "\n",
    "similarity = cosine_similarity(feature_vectors)\n",
    "\n",
    "movie_name = input(' Enter your favourite movie name : ')\n",
    "\n",
    "list_of_all_titles = movies_data['title'].tolist()\n",
    "\n",
    "find_close_match = difflib.get_close_matches(movie_name, list_of_all_titles)\n",
    "\n",
    "close_match = find_close_match[0]\n",
    "\n",
    "index_of_the_movie = movies_data[movies_data.title == close_match]['index'].values[0]\n",
    "\n",
    "similarity_score = list(enumerate(similarity[index_of_the_movie]))\n",
    "\n",
    "sorted_similar_movies = sorted(similarity_score, key = lambda x:x[1], reverse = True) \n",
    "\n"
   ]
  },
  {
   "cell_type": "code",
   "execution_count": 43,
   "id": "dcfb625d",
   "metadata": {},
   "outputs": [
    {
     "name": "stdout",
     "output_type": "stream",
     "text": [
      "Movies suggested for you : \n",
      "\n",
      "1 . Avatar\n",
      "2 . Alien\n",
      "3 . Guardians of the Galaxy\n",
      "4 . Star Trek Beyond\n",
      "5 . Galaxy Quest\n",
      "6 . Star Trek Into Darkness\n",
      "7 . Aliens\n",
      "8 . Gravity\n",
      "9 . Alien³\n",
      "10 . Cargo\n",
      "11 . Moonraker\n",
      "12 . Trekkies\n",
      "13 . Gettysburg\n",
      "14 . Pocahontas\n",
      "15 . The Helix... Loaded\n",
      "16 . Event Horizon\n",
      "17 . Space Dogs\n",
      "18 . Jason X\n",
      "19 . Clash of the Titans\n",
      "20 . The Right Stuff\n",
      "21 . Space Cowboys\n",
      "22 . Shadow Conspiracy\n",
      "23 . The Astronaut's Wife\n",
      "24 . Terminator Salvation\n",
      "25 . Planet of the Apes\n",
      "26 . Star Trek\n",
      "27 . Star Wars: Clone Wars: Volume 1\n",
      "28 . Wing Commander\n",
      "29 . Sunshine\n"
     ]
    }
   ],
   "source": [
    "print('Movies suggested for you : \\n')\n",
    "i = 1\n",
    "for movie in sorted_similar_movies:\n",
    "  index = movie[0]\n",
    "  title_from_index = movies_data[movies_data.index==index]['title'].values[0]\n",
    "  if (i<30):\n",
    "    print(i, '.',title_from_index)\n",
    "    i+=1\n"
   ]
  },
  {
   "cell_type": "code",
   "execution_count": null,
   "id": "883e9518",
   "metadata": {},
   "outputs": [],
   "source": []
  },
  {
   "cell_type": "code",
   "execution_count": null,
   "id": "e56a2c97",
   "metadata": {},
   "outputs": [],
   "source": []
  },
  {
   "cell_type": "code",
   "execution_count": null,
   "id": "213f3e84",
   "metadata": {},
   "outputs": [],
   "source": []
  }
 ],
 "metadata": {
  "kernelspec": {
   "display_name": "Python 3 (ipykernel)",
   "language": "python",
   "name": "python3"
  },
  "language_info": {
   "codemirror_mode": {
    "name": "ipython",
    "version": 3
   },
   "file_extension": ".py",
   "mimetype": "text/x-python",
   "name": "python",
   "nbconvert_exporter": "python",
   "pygments_lexer": "ipython3",
   "version": "3.10.2"
  }
 },
 "nbformat": 4,
 "nbformat_minor": 5
}
